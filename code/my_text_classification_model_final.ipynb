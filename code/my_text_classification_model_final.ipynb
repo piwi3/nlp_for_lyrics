{
 "cells": [
  {
   "cell_type": "markdown",
   "id": "f1932a22",
   "metadata": {},
   "source": [
    "# Scrape song lyrics from www"
   ]
  },
  {
   "cell_type": "code",
   "execution_count": 1,
   "id": "36054ee3",
   "metadata": {},
   "outputs": [],
   "source": [
    "# Import relevant modules and functions\n",
    "# Basics\n",
    "import pandas as pd\n",
    "import numpy as np\n",
    "from matplotlib import pyplot as plt\n",
    "import seaborn as sns\n",
    "# Diable warnings\n",
    "import warnings\n",
    "warnings.filterwarnings('ignore')\n",
    "# Scraping\n",
    "import re\n",
    "import requests\n",
    "# html parsing\n",
    "from bs4 import BeautifulSoup\n",
    "# Processing of parsed text\n",
    "import os\n",
    "import time\n",
    "from collections import Counter\n",
    "from IPython.display import clear_output"
   ]
  },
  {
   "cell_type": "markdown",
   "id": "131878de",
   "metadata": {},
   "source": [
    "## Define functions to scrape lyrics for any artist"
   ]
  },
  {
   "cell_type": "code",
   "execution_count": 2,
   "id": "1fb3c26d",
   "metadata": {},
   "outputs": [],
   "source": [
    "def get_main_url(artist):\n",
    "    \n",
    "    url_base = f'https://www.lyrics.com/'\n",
    "    \n",
    "    # Determine url for search results for artist\n",
    "    url_search = url_base + 'lyrics/'\n",
    "    for i, element in enumerate(artist.split('_')):\n",
    "        if i == 0:\n",
    "            url_search += element.lower().capitalize()\n",
    "        else:\n",
    "            url_search += f'%20{element.lower().capitalize()}'\n",
    "    \n",
    "    # Get url for artist from search results page\n",
    "    response = requests.get(url_search, headers)\n",
    "    artist_tf = '-'.join(item.lower().capitalize() for item in artist.split('_'))\n",
    "    pattern = f'href=\"(artist\\/{artist_tf}.*?)\"'\n",
    "    link = re.findall(pattern, response.text, re.IGNORECASE)\n",
    "    url_albums = url_base + link[0]\n",
    "    \n",
    "    # Get url where songs are listed alphabetically\n",
    "    response = requests.get(url_albums, headers)\n",
    "    pattern = 'class=\"sort\".+?href=\"(artist.+?)\"'\n",
    "    link = re.findall(pattern, response.text, re.IGNORECASE)\n",
    "    url_song = url_base + link[0]\n",
    "    \n",
    "    return url_song"
   ]
  },
  {
   "cell_type": "code",
   "execution_count": 3,
   "id": "958ced13",
   "metadata": {},
   "outputs": [],
   "source": [
    "def clean_str(x):\n",
    "    return x.strip().lower().replace(\"'\", \"\").replace(\"’\", \"\").replace(\"‘\", \"\").replace(\",\", \"\").replace(\".\", \"\").replace(\" \", \"_\")"
   ]
  },
  {
   "cell_type": "code",
   "execution_count": 4,
   "id": "c942179e",
   "metadata": {},
   "outputs": [],
   "source": [
    "def scrape_links(artist):\n",
    "    try:\n",
    "        url = url_dct[artist]\n",
    "    except:\n",
    "        url = get_main_url(artist)\n",
    "        url_dct[artist] = url\n",
    "    \n",
    "    if not os.path.exists(f'{artist}'):\n",
    "        os.makedirs(f'{artist}')\n",
    "        print(f'Created /{artist} folder.')\n",
    "    \n",
    "    if not os.path.isfile(f'{artist}/{artist}_main.txt'):\n",
    "        response = requests.get(url, headers)\n",
    "        file = open(f'{artist}/{artist}_main.txt', 'w')\n",
    "        file.write(response.text)\n",
    "        file.close()\n",
    "        print(f'Downloaded and saved main_html in /{artist}.')\n",
    "    \n",
    "    file = open(f'{artist}/{artist}_main.txt', mode='r')\n",
    "    main_content = file.read()\n",
    "    file.close()\n",
    "    \n",
    "    pattern = '<a href=\"(\\/lyric\\S+?)\">(?:\\(.*?\\))?(.+?)[-\\/(\\[<].+?<br>(\\d{4})?'\n",
    "    lyrics_and_titles = re.findall(pattern, main_content, re.IGNORECASE)\n",
    "    \n",
    "    url_base = 'https://www.lyrics.com'\n",
    "    \n",
    "    list_of_links = []\n",
    "    list_of_titles = []\n",
    "    list_of_years = []\n",
    "    \n",
    "    for item in lyrics_and_titles:\n",
    "        list_of_links.append(url_base + item[0])\n",
    "        list_of_titles.append(clean_str(item[1]))\n",
    "        try:\n",
    "            list_of_years.append(item[2])\n",
    "        except:\n",
    "            list_of_years.append(np.nan)\n",
    "    \n",
    "    df = pd.DataFrame({'title' : list_of_titles,  \n",
    "                       'year' : list_of_years,\n",
    "                       'link' : list_of_links})\n",
    "    \n",
    "    df.drop_duplicates(subset =\"title\", keep = 'first', inplace = True)\n",
    "    df.dropna(inplace=True)\n",
    "    df.reset_index(inplace=True)\n",
    "    df.drop(['index'], axis=1, inplace=True)\n",
    "    \n",
    "    df.to_excel(f'{artist}/df_{artist}.xlsx')\n",
    "    print(f'Created df ({df.shape[0]} songs) with title, year and link in /{artist}.')"
   ]
  },
  {
   "cell_type": "code",
   "execution_count": 5,
   "id": "aa7eab25",
   "metadata": {},
   "outputs": [],
   "source": [
    "def scrape_lyrics(artist):   \n",
    "    try:\n",
    "        df = pd.read_excel(f'{artist}/df_{artist}.xlsx', index_col=0)\n",
    "    except:\n",
    "        print('Could not read df with titles and links.')\n",
    "        return None\n",
    "    \n",
    "    if not os.path.exists(f'{artist}/lyrics'):\n",
    "        os.makedirs(f'{artist}/lyrics')\n",
    "        print(f'Created /{artist}/lyrics folder.')\n",
    "   \n",
    "    for idx, title, year, link in df.itertuples():\n",
    "        if not os.path.isfile(f\"{artist}/lyrics/{title}.txt\"):\n",
    "            time.sleep(np.random.randint(10) / 20) \n",
    "            response = requests.get(url=link, headers=headers)\n",
    "            try:\n",
    "                # Convert into 'soup' using BeautifulSoup\n",
    "                lyrics_soup = BeautifulSoup(response.text, 'html')\n",
    "                # Retrieve text from lyrics_soup\n",
    "                lyrics_text = lyrics_soup.find(name='pre', class_='lyric-body').text\n",
    "                # Safe lyrics in file\n",
    "                open(file=f\"{artist}/lyrics/{title}.txt\", mode='w').write(lyrics_text)\n",
    "            except:\n",
    "                print(f'Could not retrieve and save lyrics for {title}')  \n",
    "        else:\n",
    "            print(f'File {title}.txt already exists.')\n",
    "        \n",
    "        clear_output(wait=True)\n",
    "        print(f'{idx+1} of {df.shape[0]} song lyrics saved in /{artist}/lyrics.')\n",
    "    \n",
    "    clear_output(wait=True)\n",
    "    print(f'Downloaded {df.shape[0]} song lyrics in /{artist}/lyrics.')"
   ]
  },
  {
   "cell_type": "code",
   "execution_count": 6,
   "id": "39d1015b",
   "metadata": {},
   "outputs": [],
   "source": [
    "def join_all_data(artist):\n",
    "    \n",
    "    df_prv = pd.read_excel(f'{artist}/df_{artist}.xlsx', index_col=0)\n",
    "    \n",
    "    l_lyr = []\n",
    "    for fn in os.listdir(f'{artist}/lyrics'):\n",
    "        try:\n",
    "            lyrics = open(f'{artist}/lyrics/' + fn, mode='r').read()\n",
    "            l_lyr.append([fn[:-4], lyrics])    \n",
    "        except:\n",
    "            l_lyr.append([fn[:-4], np.nan])\n",
    "            print(f'Could not add {fn}')\n",
    "    \n",
    "    df_lyr = pd.DataFrame(l_lyr, columns=['title', 'lyrics'])\n",
    "    df = df_prv.set_index('title').join(df_lyr.set_index('title'))\n",
    "    df.reset_index(inplace=True)\n",
    "    \n",
    "    df.dropna(inplace=True)\n",
    "    df.drop_duplicates(subset='lyrics', keep='first', inplace=True)\n",
    "    df.to_excel(f'{artist}/df_{artist}.xlsx')\n",
    "    \n",
    "    print(f'{df.shape[0]} unique songs identified for {artist}')"
   ]
  },
  {
   "cell_type": "code",
   "execution_count": 7,
   "id": "cd77422b",
   "metadata": {},
   "outputs": [],
   "source": [
    "def scrape_main(artist):\n",
    "    scrape_links(artist)\n",
    "    scrape_lyrics(artist)\n",
    "    join_all_data(artist)"
   ]
  },
  {
   "cell_type": "markdown",
   "id": "659c13dd",
   "metadata": {},
   "source": [
    "## Scrape songs for selected artists"
   ]
  },
  {
   "cell_type": "code",
   "execution_count": 8,
   "id": "53a9e555",
   "metadata": {
    "scrolled": false
   },
   "outputs": [],
   "source": [
    "headers = {'User-Agent': 'Mozilla/5.0 (Macintosh; Intel Mac OS X 10_15_7) AppleWebKit/605.1.15 (KHTML, like Gecko) Version/15.4 Safari/605.1.15'}"
   ]
  },
  {
   "cell_type": "code",
   "execution_count": 9,
   "id": "5f59d33c",
   "metadata": {},
   "outputs": [],
   "source": [
    "url_dct = {}"
   ]
  },
  {
   "cell_type": "markdown",
   "id": "0932a1b0",
   "metadata": {},
   "source": [
    "### Michael Jackson"
   ]
  },
  {
   "cell_type": "code",
   "execution_count": 10,
   "id": "b8c6a833",
   "metadata": {
    "scrolled": true
   },
   "outputs": [
    {
     "name": "stdout",
     "output_type": "stream",
     "text": [
      "Downloaded 325 song lyrics in /michael_jackson/lyrics.\n",
      "Could not add .DS_Store\n",
      "300 unique songs identified for michael_jackson\n"
     ]
    }
   ],
   "source": [
    "artist = 'michael_jackson'\n",
    "scrape_main(artist)"
   ]
  },
  {
   "cell_type": "markdown",
   "id": "315a56a7",
   "metadata": {},
   "source": [
    "### Backstreet Boys"
   ]
  },
  {
   "cell_type": "code",
   "execution_count": 11,
   "id": "2a6cae6b",
   "metadata": {
    "scrolled": true
   },
   "outputs": [
    {
     "name": "stdout",
     "output_type": "stream",
     "text": [
      "Downloaded 175 song lyrics in /backstreet_boys/lyrics.\n",
      "161 unique songs identified for backstreet_boys\n"
     ]
    }
   ],
   "source": [
    "artist = 'backstreet_boys'\n",
    "scrape_main(artist)"
   ]
  },
  {
   "cell_type": "markdown",
   "id": "538c9265",
   "metadata": {},
   "source": [
    "### Ed Sheeran"
   ]
  },
  {
   "cell_type": "code",
   "execution_count": 12,
   "id": "742750d6",
   "metadata": {
    "scrolled": true
   },
   "outputs": [
    {
     "name": "stdout",
     "output_type": "stream",
     "text": [
      "Downloaded 134 song lyrics in /ed_sheeran/lyrics.\n",
      "133 unique songs identified for ed_sheeran\n"
     ]
    }
   ],
   "source": [
    "artist = 'ed_sheeran'\n",
    "scrape_main(artist)"
   ]
  },
  {
   "cell_type": "markdown",
   "id": "9e05fc08",
   "metadata": {},
   "source": [
    "### Blink182"
   ]
  },
  {
   "cell_type": "code",
   "execution_count": 13,
   "id": "e6b1cc6f",
   "metadata": {},
   "outputs": [
    {
     "name": "stdout",
     "output_type": "stream",
     "text": [
      "Downloaded 172 song lyrics in /blink-182/lyrics.\n",
      "161 unique songs identified for blink-182\n"
     ]
    }
   ],
   "source": [
    "artist = 'blink-182'\n",
    "scrape_main(artist)"
   ]
  },
  {
   "cell_type": "markdown",
   "id": "1a7fce2e",
   "metadata": {},
   "source": [
    "### The Beatles"
   ]
  },
  {
   "cell_type": "code",
   "execution_count": 14,
   "id": "31fbda95",
   "metadata": {},
   "outputs": [
    {
     "name": "stdout",
     "output_type": "stream",
     "text": [
      "Downloaded 408 song lyrics in /the_beatles/lyrics.\n",
      "313 unique songs identified for the_beatles\n"
     ]
    }
   ],
   "source": [
    "artist = 'the_beatles'\n",
    "scrape_main(artist)"
   ]
  },
  {
   "cell_type": "markdown",
   "id": "6f1e5e1d",
   "metadata": {},
   "source": [
    "### Elvis Presley"
   ]
  },
  {
   "cell_type": "code",
   "execution_count": 15,
   "id": "6c363781",
   "metadata": {},
   "outputs": [
    {
     "name": "stdout",
     "output_type": "stream",
     "text": [
      "Downloaded 1022 song lyrics in /elvis_presley/lyrics.\n",
      "845 unique songs identified for elvis_presley\n"
     ]
    }
   ],
   "source": [
    "artist = 'elvis_presley'\n",
    "scrape_main(artist)"
   ]
  },
  {
   "cell_type": "markdown",
   "id": "3a3b5e44",
   "metadata": {},
   "source": [
    "### Lady Gaga"
   ]
  },
  {
   "cell_type": "code",
   "execution_count": 16,
   "id": "1102cc0a",
   "metadata": {},
   "outputs": [
    {
     "name": "stdout",
     "output_type": "stream",
     "text": [
      "Downloaded 169 song lyrics in /lady_gaga/lyrics.\n",
      "166 unique songs identified for lady_gaga\n"
     ]
    }
   ],
   "source": [
    "artist = 'lady_gaga'\n",
    "scrape_main(artist)"
   ]
  },
  {
   "cell_type": "markdown",
   "id": "8abdefcb",
   "metadata": {},
   "source": [
    "### Rolling Stones"
   ]
  },
  {
   "cell_type": "code",
   "execution_count": 17,
   "id": "0d4cde60",
   "metadata": {},
   "outputs": [
    {
     "name": "stdout",
     "output_type": "stream",
     "text": [
      "Downloaded 485 song lyrics in /the_rolling_stones/lyrics.\n",
      "435 unique songs identified for the_rolling_stones\n"
     ]
    }
   ],
   "source": [
    "artist = 'the_rolling_stones'\n",
    "scrape_main(artist)"
   ]
  },
  {
   "cell_type": "markdown",
   "id": "1ff07cb5",
   "metadata": {},
   "source": [
    "### Final url dictionary (check if filled)"
   ]
  },
  {
   "cell_type": "code",
   "execution_count": 18,
   "id": "ab874aa2",
   "metadata": {
    "scrolled": false
   },
   "outputs": [
    {
     "data": {
      "text/html": [
       "<div>\n",
       "<style scoped>\n",
       "    .dataframe tbody tr th:only-of-type {\n",
       "        vertical-align: middle;\n",
       "    }\n",
       "\n",
       "    .dataframe tbody tr th {\n",
       "        vertical-align: top;\n",
       "    }\n",
       "\n",
       "    .dataframe thead th {\n",
       "        text-align: right;\n",
       "    }\n",
       "</style>\n",
       "<table border=\"1\" class=\"dataframe\">\n",
       "  <thead>\n",
       "    <tr style=\"text-align: right;\">\n",
       "      <th></th>\n",
       "      <th>url</th>\n",
       "    </tr>\n",
       "  </thead>\n",
       "  <tbody>\n",
       "    <tr>\n",
       "      <th>michael_jackson</th>\n",
       "      <td>https://www.lyrics.com/artist.php?name=Michael...</td>\n",
       "    </tr>\n",
       "    <tr>\n",
       "      <th>backstreet_boys</th>\n",
       "      <td>https://www.lyrics.com/artist.php?name=Backstr...</td>\n",
       "    </tr>\n",
       "    <tr>\n",
       "      <th>ed_sheeran</th>\n",
       "      <td>https://www.lyrics.com/artist.php?name=Ed-Shee...</td>\n",
       "    </tr>\n",
       "    <tr>\n",
       "      <th>blink-182</th>\n",
       "      <td>https://www.lyrics.com/artist.php?name=blink-1...</td>\n",
       "    </tr>\n",
       "    <tr>\n",
       "      <th>the_beatles</th>\n",
       "      <td>https://www.lyrics.com/artist.php?name=The-Bea...</td>\n",
       "    </tr>\n",
       "    <tr>\n",
       "      <th>elvis_presley</th>\n",
       "      <td>https://www.lyrics.com/artist.php?name=Elvis-P...</td>\n",
       "    </tr>\n",
       "    <tr>\n",
       "      <th>lady_gaga</th>\n",
       "      <td>https://www.lyrics.com/artist.php?name=Lady-Ga...</td>\n",
       "    </tr>\n",
       "    <tr>\n",
       "      <th>the_rolling_stones</th>\n",
       "      <td>https://www.lyrics.com/artist.php?name=The-Rol...</td>\n",
       "    </tr>\n",
       "  </tbody>\n",
       "</table>\n",
       "</div>"
      ],
      "text/plain": [
       "                                                                  url\n",
       "michael_jackson     https://www.lyrics.com/artist.php?name=Michael...\n",
       "backstreet_boys     https://www.lyrics.com/artist.php?name=Backstr...\n",
       "ed_sheeran          https://www.lyrics.com/artist.php?name=Ed-Shee...\n",
       "blink-182           https://www.lyrics.com/artist.php?name=blink-1...\n",
       "the_beatles         https://www.lyrics.com/artist.php?name=The-Bea...\n",
       "elvis_presley       https://www.lyrics.com/artist.php?name=Elvis-P...\n",
       "lady_gaga           https://www.lyrics.com/artist.php?name=Lady-Ga...\n",
       "the_rolling_stones  https://www.lyrics.com/artist.php?name=The-Rol..."
      ]
     },
     "execution_count": 18,
     "metadata": {},
     "output_type": "execute_result"
    }
   ],
   "source": [
    "# check final dictionary\n",
    "pd.DataFrame.from_dict(url_dct, orient='index', columns=['url'])"
   ]
  },
  {
   "cell_type": "markdown",
   "id": "5909af1d",
   "metadata": {},
   "source": [
    "# Classification"
   ]
  },
  {
   "cell_type": "code",
   "execution_count": 19,
   "id": "0216981f",
   "metadata": {
    "code_folding": []
   },
   "outputs": [],
   "source": [
    "# Import relevant modules and functions\n",
    "# Basic modules and functions\n",
    "import seaborn as sns\n",
    "sns.set() \n",
    "sns.set_style(\"darkgrid\")\n",
    "# Data splitting\n",
    "from sklearn.model_selection import train_test_split\n",
    "# NLP preprocessing\n",
    "from sklearn.feature_extraction.text import CountVectorizer\n",
    "from sklearn.feature_extraction.text import TfidfTransformer\n",
    "from nltk import word_tokenize          \n",
    "from nltk.stem import WordNetLemmatizer\n",
    "# Classifier\n",
    "from sklearn.linear_model import LogisticRegression\n",
    "from sklearn.naive_bayes import MultinomialNB\n",
    "from sklearn.ensemble import RandomForestClassifier\n",
    "# Sampling methods\n",
    "from imblearn.over_sampling import RandomOverSampler, SMOTE\n",
    "from imblearn.under_sampling import RandomUnderSampler\n",
    "# Pipelines\n",
    "from sklearn.pipeline import make_pipeline\n",
    "from sklearn.pipeline import Pipeline\n",
    "from sklearn.pipeline import FeatureUnion\n",
    "from sklearn.compose import ColumnTransformer\n",
    "from sklearn.compose import TransformedTargetRegressor\n",
    "# Roc-curve (AUC)\n",
    "from sklearn.metrics import plot_roc_curve, roc_curve, auc\n",
    "from sklearn.metrics import RocCurveDisplay #(new, previous one deprecated)\n",
    "# Cross-validation\n",
    "from sklearn.model_selection import cross_val_score\n",
    "# Confusin matrix\n",
    "from sklearn.metrics import confusion_matrix\n",
    "from sklearn.metrics import plot_confusion_matrix\n",
    "# Different scores\n",
    "from sklearn.metrics import accuracy_score, precision_score, recall_score, f1_score, roc_auc_score\n",
    "from sklearn.metrics import mean_squared_log_error, make_scorer, r2_score\n",
    "# Hyperparameteroptimization\n",
    "from sklearn.model_selection import GridSearchCV\n",
    "from sklearn.model_selection import RandomizedSearchCV\n",
    "from sklearn.model_selection import KFold\n",
    "from sklearn.model_selection import ShuffleSplit\n",
    "#import nltk\n",
    "#nltk.download('punkt')\n",
    "#nltk.download('wordnet')\n",
    "#nltk.download()"
   ]
  },
  {
   "cell_type": "markdown",
   "id": "c0d04228",
   "metadata": {},
   "source": [
    "## Create corpus and target variable"
   ]
  },
  {
   "cell_type": "code",
   "execution_count": 20,
   "id": "339bfc4a",
   "metadata": {},
   "outputs": [],
   "source": [
    "def get_corpus_target(artists):\n",
    "    corpus = []\n",
    "    target = []\n",
    "    \n",
    "    for artist in artists:\n",
    "        try:\n",
    "            df = pd.read_excel(f'{artist}/df_{artist}.xlsx', index_col=0)\n",
    "            print(f'{df.shape[0]} unique songs identified and added for {artist}.')\n",
    "\n",
    "            for idx, lyrics, year in df[['lyrics', 'year']].itertuples():\n",
    "                try:\n",
    "                    corpus.append(lyrics)\n",
    "                    target.append([artist, year])\n",
    "                except:\n",
    "                    continue\n",
    "        except:\n",
    "            print(f'Df /{artist}/df_{artist}.xlsx with lyrics does not exist') \n",
    "\n",
    "    print(f'{len(corpus)} unique songs identified and added in total')\n",
    "    return corpus, target"
   ]
  },
  {
   "cell_type": "markdown",
   "id": "89c0f53b",
   "metadata": {},
   "source": [
    "## Data analysis"
   ]
  },
  {
   "cell_type": "code",
   "execution_count": 21,
   "id": "85908f66",
   "metadata": {},
   "outputs": [
    {
     "name": "stdout",
     "output_type": "stream",
     "text": [
      "300 unique songs identified and added for michael_jackson.\n",
      "161 unique songs identified and added for backstreet_boys.\n",
      "133 unique songs identified and added for ed_sheeran.\n",
      "161 unique songs identified and added for blink-182.\n",
      "313 unique songs identified and added for the_beatles.\n",
      "845 unique songs identified and added for elvis_presley.\n",
      "166 unique songs identified and added for lady_gaga.\n",
      "435 unique songs identified and added for the_rolling_stones.\n",
      "2514 unique songs identified and added in total\n"
     ]
    }
   ],
   "source": [
    "corpus, target = get_corpus_target(['michael_jackson', 'backstreet_boys', 'ed_sheeran', \n",
    "           'blink-182', 'the_beatles', 'elvis_presley', 'lady_gaga', 'the_rolling_stones'])"
   ]
  },
  {
   "cell_type": "code",
   "execution_count": 22,
   "id": "5f698644",
   "metadata": {},
   "outputs": [
    {
     "data": {
      "text/html": [
       "<div>\n",
       "<style scoped>\n",
       "    .dataframe tbody tr th:only-of-type {\n",
       "        vertical-align: middle;\n",
       "    }\n",
       "\n",
       "    .dataframe tbody tr th {\n",
       "        vertical-align: top;\n",
       "    }\n",
       "\n",
       "    .dataframe thead th {\n",
       "        text-align: right;\n",
       "    }\n",
       "</style>\n",
       "<table border=\"1\" class=\"dataframe\">\n",
       "  <thead>\n",
       "    <tr style=\"text-align: right;\">\n",
       "      <th></th>\n",
       "      <th>artist</th>\n",
       "      <th>year</th>\n",
       "    </tr>\n",
       "  </thead>\n",
       "  <tbody>\n",
       "    <tr>\n",
       "      <th>0</th>\n",
       "      <td>michael_jackson</td>\n",
       "      <td>2007</td>\n",
       "    </tr>\n",
       "    <tr>\n",
       "      <th>1</th>\n",
       "      <td>michael_jackson</td>\n",
       "      <td>2010</td>\n",
       "    </tr>\n",
       "    <tr>\n",
       "      <th>2</th>\n",
       "      <td>michael_jackson</td>\n",
       "      <td>2010</td>\n",
       "    </tr>\n",
       "  </tbody>\n",
       "</table>\n",
       "</div>"
      ],
      "text/plain": [
       "            artist  year\n",
       "0  michael_jackson  2007\n",
       "1  michael_jackson  2010\n",
       "2  michael_jackson  2010"
      ]
     },
     "execution_count": 22,
     "metadata": {},
     "output_type": "execute_result"
    }
   ],
   "source": [
    "# Create dataframe based on target variable\n",
    "df = pd.DataFrame(target, columns=['artist', 'year'])\n",
    "df.head(3)"
   ]
  },
  {
   "cell_type": "code",
   "execution_count": 23,
   "id": "f11f08e5",
   "metadata": {},
   "outputs": [
    {
     "data": {
      "image/png": "[encoded data removed]",
      "text/plain": [
       "<Figure size 936x288 with 1 Axes>"
      ]
     },
     "metadata": {},
     "output_type": "display_data"
    }
   ],
   "source": [
    "# Overview of artists and count of songs\n",
    "plt.figure(figsize=(13,4))\n",
    "ax = sns.countplot(x=df.artist, palette=\"Set2\")\n",
    "ax.set_xlabel('Artists')\n",
    "ax.set_ylabel('Number of songs in dataset')\n",
    "sns.despine;"
   ]
  },
  {
   "cell_type": "code",
   "execution_count": 24,
   "id": "bdccbb2a",
   "metadata": {
    "scrolled": true
   },
   "outputs": [
    {
     "data": {
      "image/png": "[encoded data removed]",
      "text/plain": [
       "<Figure size 936x288 with 1 Axes>"
      ]
     },
     "metadata": {},
     "output_type": "display_data"
    }
   ],
   "source": [
    "# Overview of release 'decade' and count of songs\n",
    "plt.figure(figsize=(13,4))\n",
    "ax = sns.countplot(x=df.year.apply(lambda x: int(str(x)[:-1]+str(0))), palette=\"Set2\")\n",
    "ax.set_xlabel('Decade of song release')\n",
    "ax.set_ylabel('Number of songs in dataset')\n",
    "sns.despine;"
   ]
  },
  {
   "cell_type": "markdown",
   "id": "f2db2949",
   "metadata": {},
   "source": [
    "__Comments re. release year:__  \n",
    "+ Due to duplicate filtering & selection process, release year is not very accurate (remix, newly released best-of albums etc.)"
   ]
  },
  {
   "cell_type": "markdown",
   "id": "3d4f7e16",
   "metadata": {},
   "source": [
    "## Logistic Regression (for artists) "
   ]
  },
  {
   "cell_type": "code",
   "execution_count": 25,
   "id": "059bedf2",
   "metadata": {
    "scrolled": true
   },
   "outputs": [
    {
     "name": "stdout",
     "output_type": "stream",
     "text": [
      "300 unique songs identified and added for michael_jackson.\n",
      "161 unique songs identified and added for backstreet_boys.\n",
      "133 unique songs identified and added for ed_sheeran.\n",
      "594 unique songs identified and added in total\n"
     ]
    }
   ],
   "source": [
    "artists = ['michael_jackson', 'backstreet_boys', 'ed_sheeran']\n",
    "corpus, target = get_corpus_target(artists)"
   ]
  },
  {
   "cell_type": "markdown",
   "id": "36c3dbaf",
   "metadata": {},
   "source": [
    "### Train-test-split data "
   ]
  },
  {
   "cell_type": "code",
   "execution_count": 26,
   "id": "36b427b3",
   "metadata": {},
   "outputs": [],
   "source": [
    "X = corpus"
   ]
  },
  {
   "cell_type": "code",
   "execution_count": 27,
   "id": "ac363320",
   "metadata": {
    "scrolled": true
   },
   "outputs": [
    {
     "data": {
      "text/plain": [
       "(300, 594)"
      ]
     },
     "execution_count": 27,
     "metadata": {},
     "output_type": "execute_result"
    }
   ],
   "source": [
    "target_artist = 'michael_jackson'\n",
    "y = [i[0] for i in target]\n",
    "y = [int(i == target_artist) for i in y]\n",
    "sum(y), len(y)"
   ]
  },
  {
   "cell_type": "code",
   "execution_count": 28,
   "id": "177c836c",
   "metadata": {},
   "outputs": [],
   "source": [
    "X_train, X_test, y_train, y_test = train_test_split(X, y, test_size=0.2, random_state=0)"
   ]
  },
  {
   "cell_type": "markdown",
   "id": "4ea725a9",
   "metadata": {},
   "source": [
    "### Define preprocessing pipeline"
   ]
  },
  {
   "cell_type": "code",
   "execution_count": 29,
   "id": "8f33d788",
   "metadata": {},
   "outputs": [],
   "source": [
    "# Create customized tokenizer to extract words (including filtering and lemmatizing)\n",
    "class CustomizedTokenizer:\n",
    "    def __init__(self):\n",
    "        self.wnl = WordNetLemmatizer()\n",
    "    def __call__(self, doc):\n",
    "        l = [] \n",
    "        # Tokenize doc and filter out unwanted elements\n",
    "        for t in word_tokenize(doc):\n",
    "            is_token = []\n",
    "            # filter out numbers \n",
    "            is_token.append(not re.search('\\d+', t))\n",
    "            # filter out punctuation\n",
    "            is_token.append(not re.search('[^\\w\\s]', t))\n",
    "            #filter out words <= 2 letters\n",
    "            is_token.append(not re.search(r'(\\b\\w{1,2}\\b)', t))\n",
    "            # lematize tokens and append l\n",
    "            if all(is_token): \n",
    "                l.append(self.wnl.lemmatize(t))\n",
    "        # Return list of tokens\n",
    "        return l"
   ]
  },
  {
   "cell_type": "code",
   "execution_count": 30,
   "id": "d28290bd",
   "metadata": {},
   "outputs": [],
   "source": [
    "# Define pipeline for preprocessing (equivalent with using TfidfVectorizer)\n",
    "preprocessor = Pipeline(steps=[\n",
    "    ('cv', CountVectorizer(strip_accents='unicode', max_df=0.7,\n",
    "                                      tokenizer=CustomizedTokenizer())),\n",
    "    ('tf', TfidfTransformer())   \n",
    "])"
   ]
  },
  {
   "cell_type": "code",
   "execution_count": 31,
   "id": "450c6d0c",
   "metadata": {
    "code_folding": [],
    "scrolled": false
   },
   "outputs": [
    {
     "data": {
      "text/html": [
       "<div>\n",
       "<style scoped>\n",
       "    .dataframe tbody tr th:only-of-type {\n",
       "        vertical-align: middle;\n",
       "    }\n",
       "\n",
       "    .dataframe tbody tr th {\n",
       "        vertical-align: top;\n",
       "    }\n",
       "\n",
       "    .dataframe thead th {\n",
       "        text-align: right;\n",
       "    }\n",
       "</style>\n",
       "<table border=\"1\" class=\"dataframe\">\n",
       "  <thead>\n",
       "    <tr style=\"text-align: right;\">\n",
       "      <th></th>\n",
       "      <th>aaargh</th>\n",
       "      <th>aah</th>\n",
       "      <th>aaow</th>\n",
       "      <th>aaron</th>\n",
       "      <th>aaw</th>\n",
       "      <th>abandoned</th>\n",
       "      <th>abc</th>\n",
       "      <th>able</th>\n",
       "      <th>abonnes</th>\n",
       "      <th>about</th>\n",
       "      <th>...</th>\n",
       "      <th>your</th>\n",
       "      <th>yours</th>\n",
       "      <th>yourself</th>\n",
       "      <th>youth</th>\n",
       "      <th>youtube</th>\n",
       "      <th>youtubes</th>\n",
       "      <th>yup</th>\n",
       "      <th>zales</th>\n",
       "      <th>zigzag</th>\n",
       "      <th>zone</th>\n",
       "    </tr>\n",
       "  </thead>\n",
       "  <tbody>\n",
       "    <tr>\n",
       "      <th>count</th>\n",
       "      <td>475.000000</td>\n",
       "      <td>475.000000</td>\n",
       "      <td>475.000000</td>\n",
       "      <td>475.000000</td>\n",
       "      <td>475.000000</td>\n",
       "      <td>475.000000</td>\n",
       "      <td>475.000000</td>\n",
       "      <td>475.000000</td>\n",
       "      <td>475.000000</td>\n",
       "      <td>475.000000</td>\n",
       "      <td>...</td>\n",
       "      <td>475.000000</td>\n",
       "      <td>475.000000</td>\n",
       "      <td>475.000000</td>\n",
       "      <td>475.000000</td>\n",
       "      <td>475.000000</td>\n",
       "      <td>475.000000</td>\n",
       "      <td>475.000000</td>\n",
       "      <td>475.000000</td>\n",
       "      <td>475.000000</td>\n",
       "      <td>475.000000</td>\n",
       "    </tr>\n",
       "    <tr>\n",
       "      <th>mean</th>\n",
       "      <td>0.000220</td>\n",
       "      <td>0.001384</td>\n",
       "      <td>0.000372</td>\n",
       "      <td>0.000081</td>\n",
       "      <td>0.000394</td>\n",
       "      <td>0.000115</td>\n",
       "      <td>0.001237</td>\n",
       "      <td>0.000480</td>\n",
       "      <td>0.000033</td>\n",
       "      <td>0.014002</td>\n",
       "      <td>...</td>\n",
       "      <td>0.045366</td>\n",
       "      <td>0.001919</td>\n",
       "      <td>0.004941</td>\n",
       "      <td>0.000736</td>\n",
       "      <td>0.000089</td>\n",
       "      <td>0.000097</td>\n",
       "      <td>0.000492</td>\n",
       "      <td>0.000101</td>\n",
       "      <td>0.000057</td>\n",
       "      <td>0.000685</td>\n",
       "    </tr>\n",
       "    <tr>\n",
       "      <th>std</th>\n",
       "      <td>0.004791</td>\n",
       "      <td>0.027598</td>\n",
       "      <td>0.005375</td>\n",
       "      <td>0.001760</td>\n",
       "      <td>0.008584</td>\n",
       "      <td>0.002499</td>\n",
       "      <td>0.024931</td>\n",
       "      <td>0.004992</td>\n",
       "      <td>0.000709</td>\n",
       "      <td>0.049095</td>\n",
       "      <td>...</td>\n",
       "      <td>0.060358</td>\n",
       "      <td>0.011913</td>\n",
       "      <td>0.037246</td>\n",
       "      <td>0.011206</td>\n",
       "      <td>0.001930</td>\n",
       "      <td>0.002116</td>\n",
       "      <td>0.010721</td>\n",
       "      <td>0.002191</td>\n",
       "      <td>0.001249</td>\n",
       "      <td>0.006320</td>\n",
       "    </tr>\n",
       "    <tr>\n",
       "      <th>min</th>\n",
       "      <td>0.000000</td>\n",
       "      <td>0.000000</td>\n",
       "      <td>0.000000</td>\n",
       "      <td>0.000000</td>\n",
       "      <td>0.000000</td>\n",
       "      <td>0.000000</td>\n",
       "      <td>0.000000</td>\n",
       "      <td>0.000000</td>\n",
       "      <td>0.000000</td>\n",
       "      <td>0.000000</td>\n",
       "      <td>...</td>\n",
       "      <td>0.000000</td>\n",
       "      <td>0.000000</td>\n",
       "      <td>0.000000</td>\n",
       "      <td>0.000000</td>\n",
       "      <td>0.000000</td>\n",
       "      <td>0.000000</td>\n",
       "      <td>0.000000</td>\n",
       "      <td>0.000000</td>\n",
       "      <td>0.000000</td>\n",
       "      <td>0.000000</td>\n",
       "    </tr>\n",
       "    <tr>\n",
       "      <th>25%</th>\n",
       "      <td>0.000000</td>\n",
       "      <td>0.000000</td>\n",
       "      <td>0.000000</td>\n",
       "      <td>0.000000</td>\n",
       "      <td>0.000000</td>\n",
       "      <td>0.000000</td>\n",
       "      <td>0.000000</td>\n",
       "      <td>0.000000</td>\n",
       "      <td>0.000000</td>\n",
       "      <td>0.000000</td>\n",
       "      <td>...</td>\n",
       "      <td>0.000000</td>\n",
       "      <td>0.000000</td>\n",
       "      <td>0.000000</td>\n",
       "      <td>0.000000</td>\n",
       "      <td>0.000000</td>\n",
       "      <td>0.000000</td>\n",
       "      <td>0.000000</td>\n",
       "      <td>0.000000</td>\n",
       "      <td>0.000000</td>\n",
       "      <td>0.000000</td>\n",
       "    </tr>\n",
       "    <tr>\n",
       "      <th>50%</th>\n",
       "      <td>0.000000</td>\n",
       "      <td>0.000000</td>\n",
       "      <td>0.000000</td>\n",
       "      <td>0.000000</td>\n",
       "      <td>0.000000</td>\n",
       "      <td>0.000000</td>\n",
       "      <td>0.000000</td>\n",
       "      <td>0.000000</td>\n",
       "      <td>0.000000</td>\n",
       "      <td>0.000000</td>\n",
       "      <td>...</td>\n",
       "      <td>0.022918</td>\n",
       "      <td>0.000000</td>\n",
       "      <td>0.000000</td>\n",
       "      <td>0.000000</td>\n",
       "      <td>0.000000</td>\n",
       "      <td>0.000000</td>\n",
       "      <td>0.000000</td>\n",
       "      <td>0.000000</td>\n",
       "      <td>0.000000</td>\n",
       "      <td>0.000000</td>\n",
       "    </tr>\n",
       "    <tr>\n",
       "      <th>75%</th>\n",
       "      <td>0.000000</td>\n",
       "      <td>0.000000</td>\n",
       "      <td>0.000000</td>\n",
       "      <td>0.000000</td>\n",
       "      <td>0.000000</td>\n",
       "      <td>0.000000</td>\n",
       "      <td>0.000000</td>\n",
       "      <td>0.000000</td>\n",
       "      <td>0.000000</td>\n",
       "      <td>0.000000</td>\n",
       "      <td>...</td>\n",
       "      <td>0.064953</td>\n",
       "      <td>0.000000</td>\n",
       "      <td>0.000000</td>\n",
       "      <td>0.000000</td>\n",
       "      <td>0.000000</td>\n",
       "      <td>0.000000</td>\n",
       "      <td>0.000000</td>\n",
       "      <td>0.000000</td>\n",
       "      <td>0.000000</td>\n",
       "      <td>0.000000</td>\n",
       "    </tr>\n",
       "    <tr>\n",
       "      <th>max</th>\n",
       "      <td>0.104423</td>\n",
       "      <td>0.598768</td>\n",
       "      <td>0.106256</td>\n",
       "      <td>0.038354</td>\n",
       "      <td>0.187089</td>\n",
       "      <td>0.054464</td>\n",
       "      <td>0.541502</td>\n",
       "      <td>0.078283</td>\n",
       "      <td>0.015455</td>\n",
       "      <td>0.641450</td>\n",
       "      <td>...</td>\n",
       "      <td>0.330818</td>\n",
       "      <td>0.125156</td>\n",
       "      <td>0.581732</td>\n",
       "      <td>0.234104</td>\n",
       "      <td>0.042070</td>\n",
       "      <td>0.046107</td>\n",
       "      <td>0.233649</td>\n",
       "      <td>0.047761</td>\n",
       "      <td>0.027214</td>\n",
       "      <td>0.084607</td>\n",
       "    </tr>\n",
       "  </tbody>\n",
       "</table>\n",
       "<p>8 rows × 5319 columns</p>\n",
       "</div>"
      ],
      "text/plain": [
       "           aaargh         aah        aaow       aaron         aaw   abandoned  \\\n",
       "count  475.000000  475.000000  475.000000  475.000000  475.000000  475.000000   \n",
       "mean     0.000220    0.001384    0.000372    0.000081    0.000394    0.000115   \n",
       "std      0.004791    0.027598    0.005375    0.001760    0.008584    0.002499   \n",
       "min      0.000000    0.000000    0.000000    0.000000    0.000000    0.000000   \n",
       "25%      0.000000    0.000000    0.000000    0.000000    0.000000    0.000000   \n",
       "50%      0.000000    0.000000    0.000000    0.000000    0.000000    0.000000   \n",
       "75%      0.000000    0.000000    0.000000    0.000000    0.000000    0.000000   \n",
       "max      0.104423    0.598768    0.106256    0.038354    0.187089    0.054464   \n",
       "\n",
       "              abc        able     abonnes       about  ...        your  \\\n",
       "count  475.000000  475.000000  475.000000  475.000000  ...  475.000000   \n",
       "mean     0.001237    0.000480    0.000033    0.014002  ...    0.045366   \n",
       "std      0.024931    0.004992    0.000709    0.049095  ...    0.060358   \n",
       "min      0.000000    0.000000    0.000000    0.000000  ...    0.000000   \n",
       "25%      0.000000    0.000000    0.000000    0.000000  ...    0.000000   \n",
       "50%      0.000000    0.000000    0.000000    0.000000  ...    0.022918   \n",
       "75%      0.000000    0.000000    0.000000    0.000000  ...    0.064953   \n",
       "max      0.541502    0.078283    0.015455    0.641450  ...    0.330818   \n",
       "\n",
       "            yours    yourself       youth     youtube    youtubes         yup  \\\n",
       "count  475.000000  475.000000  475.000000  475.000000  475.000000  475.000000   \n",
       "mean     0.001919    0.004941    0.000736    0.000089    0.000097    0.000492   \n",
       "std      0.011913    0.037246    0.011206    0.001930    0.002116    0.010721   \n",
       "min      0.000000    0.000000    0.000000    0.000000    0.000000    0.000000   \n",
       "25%      0.000000    0.000000    0.000000    0.000000    0.000000    0.000000   \n",
       "50%      0.000000    0.000000    0.000000    0.000000    0.000000    0.000000   \n",
       "75%      0.000000    0.000000    0.000000    0.000000    0.000000    0.000000   \n",
       "max      0.125156    0.581732    0.234104    0.042070    0.046107    0.233649   \n",
       "\n",
       "            zales      zigzag        zone  \n",
       "count  475.000000  475.000000  475.000000  \n",
       "mean     0.000101    0.000057    0.000685  \n",
       "std      0.002191    0.001249    0.006320  \n",
       "min      0.000000    0.000000    0.000000  \n",
       "25%      0.000000    0.000000    0.000000  \n",
       "50%      0.000000    0.000000    0.000000  \n",
       "75%      0.000000    0.000000    0.000000  \n",
       "max      0.047761    0.027214    0.084607  \n",
       "\n",
       "[8 rows x 5319 columns]"
      ]
     },
     "execution_count": 31,
     "metadata": {},
     "output_type": "execute_result"
    }
   ],
   "source": [
    "# Calcualte X after preprocessing\n",
    "matrix = preprocessor.fit_transform(X_train)\n",
    "df = pd.DataFrame(matrix.todense(), columns=preprocessor['cv'].get_feature_names())\n",
    "df.describe()"
   ]
  },
  {
   "cell_type": "markdown",
   "id": "c5bcbcbf",
   "metadata": {},
   "source": [
    "### Create classifier"
   ]
  },
  {
   "cell_type": "code",
   "execution_count": 32,
   "id": "651e6b20",
   "metadata": {},
   "outputs": [],
   "source": [
    "clf_log = Pipeline(steps=[\n",
    "    ('preprocessor', preprocessor),\n",
    "    ('m_log', LogisticRegression())    \n",
    "])"
   ]
  },
  {
   "cell_type": "code",
   "execution_count": 33,
   "id": "422c6e86",
   "metadata": {},
   "outputs": [],
   "source": [
    "clf_log.fit(X_train, y_train);"
   ]
  },
  {
   "cell_type": "markdown",
   "id": "e75cefe4",
   "metadata": {},
   "source": [
    "### Evaluate classifier"
   ]
  },
  {
   "cell_type": "code",
   "execution_count": 34,
   "id": "d4198b14",
   "metadata": {},
   "outputs": [
    {
     "data": {
      "text/plain": [
       "array([0.83157895, 0.67368421, 0.82105263, 0.75789474, 0.76842105])"
      ]
     },
     "execution_count": 34,
     "metadata": {},
     "output_type": "execute_result"
    }
   ],
   "source": [
    "cv_score = cross_val_score(clf_log, X_train, y_train, \n",
    "                cv=5, scoring='accuracy',\n",
    "                n_jobs=-1)\n",
    "cv_score"
   ]
  },
  {
   "cell_type": "code",
   "execution_count": 35,
   "id": "f96739d1",
   "metadata": {},
   "outputs": [
    {
     "data": {
      "text/plain": [
       "0.7705263157894737"
      ]
     },
     "execution_count": 35,
     "metadata": {},
     "output_type": "execute_result"
    }
   ],
   "source": [
    "cv_score.mean()"
   ]
  },
  {
   "cell_type": "code",
   "execution_count": 36,
   "id": "11fa7432",
   "metadata": {},
   "outputs": [
    {
     "name": "stdout",
     "output_type": "stream",
     "text": [
      "accuracy: 0.6890756302521008\n"
     ]
    }
   ],
   "source": [
    "acc = clf_log.score(X_test, y_test)\n",
    "print(f'accuracy: {acc}')"
   ]
  },
  {
   "cell_type": "code",
   "execution_count": 37,
   "id": "97c24a32",
   "metadata": {},
   "outputs": [
    {
     "name": "stdout",
     "output_type": "stream",
     "text": [
      "precision: 0.7758620689655172, recall: 0.6521739130434783\n"
     ]
    }
   ],
   "source": [
    "y_pred = clf_log.predict(X_test)\n",
    "prc = precision_score(y_pred, y_test)\n",
    "rcl = recall_score(y_pred, y_test)\n",
    "print(f'precision: {prc}, recall: {rcl}')"
   ]
  },
  {
   "cell_type": "code",
   "execution_count": 38,
   "id": "7e8cef55",
   "metadata": {
    "scrolled": false
   },
   "outputs": [
    {
     "data": {
      "image/png": "[encoded data removed]",
      "text/plain": [
       "<Figure size 432x288 with 1 Axes>"
      ]
     },
     "metadata": {},
     "output_type": "display_data"
    }
   ],
   "source": [
    "RocCurveDisplay.from_estimator(clf_log, X_test, y_test)\n",
    "sns.despine()"
   ]
  },
  {
   "cell_type": "markdown",
   "id": "f90458a9",
   "metadata": {},
   "source": [
    "## Naive Bayes (for artists)"
   ]
  },
  {
   "cell_type": "code",
   "execution_count": 39,
   "id": "93c5c1c6",
   "metadata": {},
   "outputs": [
    {
     "name": "stdout",
     "output_type": "stream",
     "text": [
      "300 unique songs identified and added for michael_jackson.\n",
      "161 unique songs identified and added for backstreet_boys.\n",
      "133 unique songs identified and added for ed_sheeran.\n",
      "594 unique songs identified and added in total\n"
     ]
    }
   ],
   "source": [
    "artists = ['michael_jackson', 'backstreet_boys', 'ed_sheeran']\n",
    "corpus, target = get_corpus_target(artists)"
   ]
  },
  {
   "cell_type": "markdown",
   "id": "996b940e",
   "metadata": {},
   "source": [
    "### Train-test-split data"
   ]
  },
  {
   "cell_type": "code",
   "execution_count": 40,
   "id": "b487b9e7",
   "metadata": {},
   "outputs": [],
   "source": [
    "X = corpus"
   ]
  },
  {
   "cell_type": "code",
   "execution_count": 41,
   "id": "7b4de54f",
   "metadata": {
    "scrolled": true
   },
   "outputs": [
    {
     "data": {
      "text/plain": [
       "(300, 594)"
      ]
     },
     "execution_count": 41,
     "metadata": {},
     "output_type": "execute_result"
    }
   ],
   "source": [
    "target_artist = 'michael_jackson'\n",
    "y = [int(i[0] == target_artist) for i in target]\n",
    "sum(y), len(y)"
   ]
  },
  {
   "cell_type": "code",
   "execution_count": 42,
   "id": "6a3d51c7",
   "metadata": {},
   "outputs": [],
   "source": [
    "X_train, X_test, y_train, y_test = train_test_split(X, y, test_size=0.2, random_state=0)"
   ]
  },
  {
   "cell_type": "markdown",
   "id": "bb0397ab",
   "metadata": {},
   "source": [
    "### Define preprocessing pipeline"
   ]
  },
  {
   "cell_type": "markdown",
   "id": "6faa350f",
   "metadata": {},
   "source": [
    "_Same pipeline as for bag of words approach_"
   ]
  },
  {
   "cell_type": "markdown",
   "id": "201e885c",
   "metadata": {},
   "source": [
    "### Create classifier"
   ]
  },
  {
   "cell_type": "code",
   "execution_count": 43,
   "id": "6e840990",
   "metadata": {},
   "outputs": [],
   "source": [
    "clf_nb = Pipeline(steps=[\n",
    "    ('preprocessor', preprocessor),\n",
    "    ('m_nb', MultinomialNB())    \n",
    "])"
   ]
  },
  {
   "cell_type": "code",
   "execution_count": 44,
   "id": "6b667828",
   "metadata": {},
   "outputs": [],
   "source": [
    "clf_nb.fit(X_train, y_train);"
   ]
  },
  {
   "cell_type": "markdown",
   "id": "cb39eff9",
   "metadata": {},
   "source": [
    "### Optimize hyperparameter"
   ]
  },
  {
   "cell_type": "code",
   "execution_count": 45,
   "id": "6599d5f7",
   "metadata": {},
   "outputs": [],
   "source": [
    "clf_nb.get_params().keys();"
   ]
  },
  {
   "cell_type": "code",
   "execution_count": 46,
   "id": "36b44aa0",
   "metadata": {},
   "outputs": [],
   "source": [
    "# Define parameters for hyperparameter optimization via GridSearch\n",
    "parameters = {\n",
    "    'm_nb__alpha' : [0.01, 0.05, 0.1, 0.5, 1, 2]\n",
    "}"
   ]
  },
  {
   "cell_type": "code",
   "execution_count": 47,
   "id": "43052a9b",
   "metadata": {},
   "outputs": [],
   "source": [
    "cv_h = GridSearchCV(estimator=clf_nb, \n",
    "                       param_grid=parameters, \n",
    "                       cv=3, scoring='accuracy',\n",
    "                       n_jobs=-1)"
   ]
  },
  {
   "cell_type": "code",
   "execution_count": 48,
   "id": "d979691b",
   "metadata": {},
   "outputs": [
    {
     "data": {
      "text/plain": [
       "{'m_nb__alpha': 0.05}"
      ]
     },
     "execution_count": 48,
     "metadata": {},
     "output_type": "execute_result"
    }
   ],
   "source": [
    "cv_h.fit(X_train, y_train)\n",
    "cv_h.best_params_"
   ]
  },
  {
   "cell_type": "code",
   "execution_count": 49,
   "id": "c484174e",
   "metadata": {},
   "outputs": [],
   "source": [
    "clf_nb = cv_h.best_estimator_"
   ]
  },
  {
   "cell_type": "markdown",
   "id": "24ff6de6",
   "metadata": {},
   "source": [
    "### Evaluate classifier"
   ]
  },
  {
   "cell_type": "code",
   "execution_count": 50,
   "id": "0171bc65",
   "metadata": {},
   "outputs": [
    {
     "data": {
      "text/plain": [
       "array([0.83157895, 0.69473684, 0.8       , 0.81052632, 0.81052632])"
      ]
     },
     "execution_count": 50,
     "metadata": {},
     "output_type": "execute_result"
    }
   ],
   "source": [
    "cv_score = cross_val_score(clf_nb, X_train, y_train, \n",
    "                cv=5, scoring='accuracy',\n",
    "                n_jobs=-1)\n",
    "cv_score"
   ]
  },
  {
   "cell_type": "code",
   "execution_count": 51,
   "id": "c886db3f",
   "metadata": {},
   "outputs": [
    {
     "data": {
      "text/plain": [
       "0.7894736842105263"
      ]
     },
     "execution_count": 51,
     "metadata": {},
     "output_type": "execute_result"
    }
   ],
   "source": [
    "cv_score.mean()"
   ]
  },
  {
   "cell_type": "code",
   "execution_count": 52,
   "id": "2f5a6c94",
   "metadata": {},
   "outputs": [
    {
     "name": "stdout",
     "output_type": "stream",
     "text": [
      "accuracy: 0.7226890756302521\n"
     ]
    }
   ],
   "source": [
    "acc = clf_nb.score(X_test, y_test)\n",
    "print(f'accuracy: {acc}')"
   ]
  },
  {
   "cell_type": "code",
   "execution_count": 53,
   "id": "a9365d9a",
   "metadata": {},
   "outputs": [
    {
     "name": "stdout",
     "output_type": "stream",
     "text": [
      "precision: 0.7068965517241379, recall: 0.7192982456140351\n"
     ]
    }
   ],
   "source": [
    "y_pred = clf_nb.predict(X_test)\n",
    "prc = precision_score(y_pred, y_test)\n",
    "rcl = recall_score(y_pred, y_test)\n",
    "print(f'precision: {prc}, recall: {rcl}')"
   ]
  },
  {
   "cell_type": "code",
   "execution_count": 54,
   "id": "36391f23",
   "metadata": {
    "scrolled": true
   },
   "outputs": [
    {
     "data": {
      "image/png": "[encoded data removed]",
      "text/plain": [
       "<Figure size 432x288 with 1 Axes>"
      ]
     },
     "metadata": {},
     "output_type": "display_data"
    }
   ],
   "source": [
    "RocCurveDisplay.from_estimator(clf_nb, X_test, y_test)\n",
    "sns.despine()"
   ]
  },
  {
   "cell_type": "markdown",
   "id": "05edcff1",
   "metadata": {},
   "source": [
    "## RandomForest (for artists)"
   ]
  },
  {
   "cell_type": "code",
   "execution_count": 55,
   "id": "e9d3f8b8",
   "metadata": {},
   "outputs": [
    {
     "name": "stdout",
     "output_type": "stream",
     "text": [
      "300 unique songs identified and added for michael_jackson.\n",
      "161 unique songs identified and added for backstreet_boys.\n",
      "133 unique songs identified and added for ed_sheeran.\n",
      "594 unique songs identified and added in total\n"
     ]
    }
   ],
   "source": [
    "artists = ['michael_jackson', 'backstreet_boys', 'ed_sheeran']\n",
    "corpus, target = get_corpus_target(artists)"
   ]
  },
  {
   "cell_type": "markdown",
   "id": "3a6876d5",
   "metadata": {},
   "source": [
    "### Train-test-split data"
   ]
  },
  {
   "cell_type": "code",
   "execution_count": 56,
   "id": "deb0f073",
   "metadata": {},
   "outputs": [],
   "source": [
    "X = corpus"
   ]
  },
  {
   "cell_type": "code",
   "execution_count": 57,
   "id": "d95687b8",
   "metadata": {
    "scrolled": true
   },
   "outputs": [
    {
     "data": {
      "text/plain": [
       "(300, 594)"
      ]
     },
     "execution_count": 57,
     "metadata": {},
     "output_type": "execute_result"
    }
   ],
   "source": [
    "target_artist = 'michael_jackson'\n",
    "y = [int(i[0] == target_artist) for i in target]\n",
    "sum(y), len(y)"
   ]
  },
  {
   "cell_type": "code",
   "execution_count": 58,
   "id": "ed032530",
   "metadata": {},
   "outputs": [],
   "source": [
    "X_train, X_test, y_train, y_test = train_test_split(X, y, test_size=0.2, random_state=0)"
   ]
  },
  {
   "cell_type": "markdown",
   "id": "eb2042a5",
   "metadata": {},
   "source": [
    "### Define preprocessing pipeline"
   ]
  },
  {
   "cell_type": "markdown",
   "id": "321c6480",
   "metadata": {},
   "source": [
    "_Same pipeline as for bag of words approach_"
   ]
  },
  {
   "cell_type": "markdown",
   "id": "eb7ffd92",
   "metadata": {},
   "source": [
    "### Create classifier"
   ]
  },
  {
   "cell_type": "code",
   "execution_count": 59,
   "id": "b90a016e",
   "metadata": {},
   "outputs": [],
   "source": [
    "clf_rf = Pipeline(steps=[\n",
    "    ('preprocessor', preprocessor),\n",
    "    ('m_rf', RandomForestClassifier(n_jobs=-1))   \n",
    "])"
   ]
  },
  {
   "cell_type": "code",
   "execution_count": 60,
   "id": "5a804b80",
   "metadata": {},
   "outputs": [],
   "source": [
    "clf_rf.fit(X_train, y_train);"
   ]
  },
  {
   "cell_type": "markdown",
   "id": "bb8d89a1",
   "metadata": {},
   "source": [
    "### Optimize hyperparameter"
   ]
  },
  {
   "cell_type": "code",
   "execution_count": 61,
   "id": "309f5e67",
   "metadata": {},
   "outputs": [],
   "source": [
    "clf_rf.get_params().keys();"
   ]
  },
  {
   "cell_type": "code",
   "execution_count": 62,
   "id": "c150ca2b",
   "metadata": {},
   "outputs": [],
   "source": [
    "# Define parameters for hyperparameter optimization via GridSearch\n",
    "parameters = {\n",
    "    'm_rf__n_estimators' : [100, 200, 400, 1000],\n",
    "    'm_rf__max_depth' : [3, 6, None],\n",
    "    'm_rf__max_features': ['auto', 'log2'],\n",
    "}"
   ]
  },
  {
   "cell_type": "code",
   "execution_count": 63,
   "id": "c06cafe3",
   "metadata": {},
   "outputs": [],
   "source": [
    "cv_h = GridSearchCV(estimator=clf_rf, \n",
    "                       param_grid=parameters, \n",
    "                       cv=3, scoring='accuracy',\n",
    "                       n_jobs=-1)"
   ]
  },
  {
   "cell_type": "code",
   "execution_count": 64,
   "id": "42dc54df",
   "metadata": {},
   "outputs": [
    {
     "data": {
      "text/plain": [
       "{'m_rf__max_depth': None,\n",
       " 'm_rf__max_features': 'log2',\n",
       " 'm_rf__n_estimators': 200}"
      ]
     },
     "execution_count": 64,
     "metadata": {},
     "output_type": "execute_result"
    }
   ],
   "source": [
    "cv_h.fit(X_train, y_train)\n",
    "cv_h.best_params_"
   ]
  },
  {
   "cell_type": "code",
   "execution_count": 65,
   "id": "bb59aad4",
   "metadata": {},
   "outputs": [],
   "source": [
    "# Function to print out results of the hyperparameter optimization\n",
    "def print_results(cv_h, show_all = False):\n",
    "    print('Best:')\n",
    "    print(round(cv_h.best_score_, 3), ' for ', cv_h.best_params_)\n",
    "    if show_all:\n",
    "        print('All:')\n",
    "        for mean, params in zip(cv_h.cv_results_['mean_test_score'], \n",
    "                                cv_h.cv_results_['params']):\n",
    "                print('{}  for {}'.format(round(mean, 3), params))\n",
    "#print_results(cv_h, True)"
   ]
  },
  {
   "cell_type": "code",
   "execution_count": 66,
   "id": "bde5f5c7",
   "metadata": {},
   "outputs": [],
   "source": [
    "clf_rf = cv_h.best_estimator_"
   ]
  },
  {
   "cell_type": "markdown",
   "id": "dcc8122c",
   "metadata": {},
   "source": [
    "### Evaluate classifier"
   ]
  },
  {
   "cell_type": "code",
   "execution_count": 67,
   "id": "6b446b19",
   "metadata": {},
   "outputs": [
    {
     "data": {
      "text/plain": [
       "array([0.72631579, 0.71578947, 0.75789474, 0.72631579, 0.75789474])"
      ]
     },
     "execution_count": 67,
     "metadata": {},
     "output_type": "execute_result"
    }
   ],
   "source": [
    "cv_score = cross_val_score(clf_rf, X_train, y_train, \n",
    "                cv=5, scoring='accuracy',\n",
    "                n_jobs=-1)\n",
    "cv_score"
   ]
  },
  {
   "cell_type": "code",
   "execution_count": 68,
   "id": "a2fe863b",
   "metadata": {},
   "outputs": [
    {
     "data": {
      "text/plain": [
       "0.736842105263158"
      ]
     },
     "execution_count": 68,
     "metadata": {},
     "output_type": "execute_result"
    }
   ],
   "source": [
    "cv_score.mean()"
   ]
  },
  {
   "cell_type": "code",
   "execution_count": 69,
   "id": "bc94e6cd",
   "metadata": {},
   "outputs": [
    {
     "name": "stdout",
     "output_type": "stream",
     "text": [
      "accuracy: 0.680672268907563\n"
     ]
    }
   ],
   "source": [
    "acc = clf_rf.score(X_test, y_test)\n",
    "print(f'accuracy: {acc}')"
   ]
  },
  {
   "cell_type": "code",
   "execution_count": 70,
   "id": "54c89dd3",
   "metadata": {},
   "outputs": [
    {
     "name": "stdout",
     "output_type": "stream",
     "text": [
      "precision: 0.7413793103448276, recall: 0.6515151515151515\n"
     ]
    }
   ],
   "source": [
    "y_pred = clf_rf.predict(X_test)\n",
    "prc = precision_score(y_pred, y_test)\n",
    "rcl = recall_score(y_pred, y_test)\n",
    "print(f'precision: {prc}, recall: {rcl}')"
   ]
  },
  {
   "cell_type": "code",
   "execution_count": 71,
   "id": "7563a547",
   "metadata": {
    "scrolled": false
   },
   "outputs": [
    {
     "data": {
      "image/png": "[encoded data removed]",
      "text/plain": [
       "<Figure size 432x288 with 1 Axes>"
      ]
     },
     "metadata": {},
     "output_type": "display_data"
    }
   ],
   "source": [
    "RocCurveDisplay.from_estimator(clf_rf, X_test, y_test)\n",
    "sns.despine()"
   ]
  },
  {
   "cell_type": "markdown",
   "id": "8e36df72",
   "metadata": {},
   "source": [
    "## Logistic Regression (for release years) "
   ]
  },
  {
   "cell_type": "code",
   "execution_count": 72,
   "id": "189cf9a9",
   "metadata": {},
   "outputs": [
    {
     "name": "stdout",
     "output_type": "stream",
     "text": [
      "300 unique songs identified and added for michael_jackson.\n",
      "161 unique songs identified and added for backstreet_boys.\n",
      "133 unique songs identified and added for ed_sheeran.\n",
      "161 unique songs identified and added for blink-182.\n",
      "313 unique songs identified and added for the_beatles.\n",
      "845 unique songs identified and added for elvis_presley.\n",
      "166 unique songs identified and added for lady_gaga.\n",
      "435 unique songs identified and added for the_rolling_stones.\n",
      "2514 unique songs identified and added in total\n"
     ]
    }
   ],
   "source": [
    "artists = ['michael_jackson', 'backstreet_boys', 'ed_sheeran', \n",
    "           'blink-182', 'the_beatles', 'elvis_presley', 'lady_gaga', 'the_rolling_stones']\n",
    "corpus, target = get_corpus_target(artists)"
   ]
  },
  {
   "cell_type": "markdown",
   "id": "214ee25c",
   "metadata": {},
   "source": [
    "### Train-test-split data "
   ]
  },
  {
   "cell_type": "code",
   "execution_count": 73,
   "id": "e745e317",
   "metadata": {},
   "outputs": [],
   "source": [
    "X = corpus"
   ]
  },
  {
   "cell_type": "code",
   "execution_count": 74,
   "id": "0afcf8d6",
   "metadata": {
    "scrolled": true
   },
   "outputs": [
    {
     "data": {
      "text/plain": [
       "(188, 2514)"
      ]
     },
     "execution_count": 74,
     "metadata": {},
     "output_type": "execute_result"
    }
   ],
   "source": [
    "target_decade = 1970 \n",
    "#y = [int(str(i[1])[:-1]+str(0)) for i in target]\n",
    "y = [int(i[1] <= target_decade) for i in target]\n",
    "sum(y), len(y)"
   ]
  },
  {
   "cell_type": "code",
   "execution_count": 75,
   "id": "143ceb1c",
   "metadata": {},
   "outputs": [],
   "source": [
    "X_train, X_test, y_train, y_test = train_test_split(X, y, test_size=0.2, random_state=0, stratify=y)"
   ]
  },
  {
   "cell_type": "markdown",
   "id": "e2057464",
   "metadata": {},
   "source": [
    "### Define preprocessing pipeline"
   ]
  },
  {
   "cell_type": "markdown",
   "id": "92026edf",
   "metadata": {},
   "source": [
    "_Info: Pipeline from logistic regression for artists will be used_"
   ]
  },
  {
   "cell_type": "markdown",
   "id": "12ba21d1",
   "metadata": {},
   "source": [
    "### Implementation with standard sampling"
   ]
  },
  {
   "cell_type": "markdown",
   "id": "f0deead9",
   "metadata": {},
   "source": [
    "#### Create classifier"
   ]
  },
  {
   "cell_type": "code",
   "execution_count": 76,
   "id": "fc86e994",
   "metadata": {},
   "outputs": [],
   "source": [
    "clf_log = Pipeline(steps=[\n",
    "    ('preprocessor', preprocessor),\n",
    "    ('m_log', LogisticRegression())    \n",
    "])"
   ]
  },
  {
   "cell_type": "code",
   "execution_count": 77,
   "id": "17bcf4b7",
   "metadata": {},
   "outputs": [],
   "source": [
    "clf_log.fit(X_train, y_train);"
   ]
  },
  {
   "cell_type": "markdown",
   "id": "12021cfe",
   "metadata": {},
   "source": [
    "#### Evaluate classifier"
   ]
  },
  {
   "cell_type": "code",
   "execution_count": 78,
   "id": "fb55360a",
   "metadata": {},
   "outputs": [
    {
     "data": {
      "text/plain": [
       "array([0.92555831, 0.92537313, 0.92537313, 0.92537313, 0.92537313])"
      ]
     },
     "execution_count": 78,
     "metadata": {},
     "output_type": "execute_result"
    }
   ],
   "source": [
    "cv_score = cross_val_score(clf_log, X_train, y_train, \n",
    "                cv=5, scoring='accuracy',\n",
    "                n_jobs=-1)\n",
    "cv_score"
   ]
  },
  {
   "cell_type": "code",
   "execution_count": 79,
   "id": "210e6109",
   "metadata": {},
   "outputs": [
    {
     "data": {
      "text/plain": [
       "0.9254101699937038"
      ]
     },
     "execution_count": 79,
     "metadata": {},
     "output_type": "execute_result"
    }
   ],
   "source": [
    "cv_score.mean()"
   ]
  },
  {
   "cell_type": "code",
   "execution_count": 80,
   "id": "2bb4d93e",
   "metadata": {},
   "outputs": [
    {
     "name": "stdout",
     "output_type": "stream",
     "text": [
      "accuracy: 0.9244532803180915\n"
     ]
    }
   ],
   "source": [
    "acc = clf_log.score(X_test, y_test)\n",
    "print(f'accuracy: {acc}')"
   ]
  },
  {
   "cell_type": "code",
   "execution_count": 81,
   "id": "d98e1359",
   "metadata": {},
   "outputs": [
    {
     "name": "stdout",
     "output_type": "stream",
     "text": [
      "precision: 0.0, recall: 0.0\n"
     ]
    }
   ],
   "source": [
    "y_pred = clf_log.predict(X_test)\n",
    "prc = precision_score(y_pred, y_test)\n",
    "rcl = recall_score(y_pred, y_test)\n",
    "print(f'precision: {prc}, recall: {rcl}')"
   ]
  },
  {
   "cell_type": "code",
   "execution_count": 82,
   "id": "0af5e3cd",
   "metadata": {
    "scrolled": true
   },
   "outputs": [
    {
     "data": {
      "image/png": "[encoded data removed]",
      "text/plain": [
       "<Figure size 432x288 with 1 Axes>"
      ]
     },
     "metadata": {},
     "output_type": "display_data"
    }
   ],
   "source": [
    "RocCurveDisplay.from_estimator(clf_log, X_test, y_test)\n",
    "sns.despine()"
   ]
  },
  {
   "cell_type": "markdown",
   "id": "b72b3a1f",
   "metadata": {},
   "source": [
    "### Implementation with undersampling"
   ]
  },
  {
   "cell_type": "markdown",
   "id": "dbac0eaf",
   "metadata": {},
   "source": [
    "#### Preparing the data incl. random undersampling"
   ]
  },
  {
   "cell_type": "code",
   "execution_count": 83,
   "id": "b69b5c51",
   "metadata": {},
   "outputs": [],
   "source": [
    "X_train_p = preprocessor.fit_transform(X_train)"
   ]
  },
  {
   "cell_type": "code",
   "execution_count": 84,
   "id": "ca07a54c",
   "metadata": {},
   "outputs": [],
   "source": [
    "X_test_p = preprocessor.transform(X_test)"
   ]
  },
  {
   "cell_type": "code",
   "execution_count": 85,
   "id": "539964ad",
   "metadata": {},
   "outputs": [],
   "source": [
    "under_sampler = RandomUnderSampler(sampling_strategy={0:500},\n",
    "                                  random_state=0,\n",
    "                                  replacement=False)"
   ]
  },
  {
   "cell_type": "code",
   "execution_count": 86,
   "id": "105fee0e",
   "metadata": {},
   "outputs": [
    {
     "data": {
      "text/plain": [
       "(650, 150)"
      ]
     },
     "execution_count": 86,
     "metadata": {},
     "output_type": "execute_result"
    }
   ],
   "source": [
    "X_train_urs, y_train_urs = under_sampler.fit_resample(X_train_p, y_train)\n",
    "len(y_train_urs), sum(y_train_urs)"
   ]
  },
  {
   "cell_type": "markdown",
   "id": "84d3f782",
   "metadata": {},
   "source": [
    "#### Buid the classifier"
   ]
  },
  {
   "cell_type": "code",
   "execution_count": 87,
   "id": "d24adf9a",
   "metadata": {},
   "outputs": [],
   "source": [
    "clf_log_u = Pipeline(steps=[\n",
    "    #('preprocessor', preprocessor),\n",
    "    ('m_log2', LogisticRegression())    \n",
    "])"
   ]
  },
  {
   "cell_type": "code",
   "execution_count": 88,
   "id": "0fe66541",
   "metadata": {},
   "outputs": [],
   "source": [
    "clf_log_u.fit(X_train_urs, y_train_urs);"
   ]
  },
  {
   "cell_type": "markdown",
   "id": "32a823d9",
   "metadata": {},
   "source": [
    "#### Evaluate classifier"
   ]
  },
  {
   "cell_type": "code",
   "execution_count": 89,
   "id": "55936c85",
   "metadata": {},
   "outputs": [
    {
     "data": {
      "text/plain": [
       "array([0.76923077, 0.76153846, 0.76923077, 0.76923077, 0.76923077])"
      ]
     },
     "execution_count": 89,
     "metadata": {},
     "output_type": "execute_result"
    }
   ],
   "source": [
    "cv_score = cross_val_score(clf_log_u, X_train_urs, y_train_urs, \n",
    "                cv=5, scoring='accuracy',\n",
    "                n_jobs=-1)\n",
    "cv_score"
   ]
  },
  {
   "cell_type": "code",
   "execution_count": 90,
   "id": "06a97504",
   "metadata": {},
   "outputs": [
    {
     "data": {
      "text/plain": [
       "0.7676923076923077"
      ]
     },
     "execution_count": 90,
     "metadata": {},
     "output_type": "execute_result"
    }
   ],
   "source": [
    "cv_score.mean()"
   ]
  },
  {
   "cell_type": "code",
   "execution_count": 91,
   "id": "3acaed3a",
   "metadata": {},
   "outputs": [
    {
     "data": {
      "text/plain": [
       "0.9244532803180915"
      ]
     },
     "execution_count": 91,
     "metadata": {},
     "output_type": "execute_result"
    }
   ],
   "source": [
    "clf_log_u.score(X_test_p, y_test)"
   ]
  },
  {
   "cell_type": "code",
   "execution_count": 92,
   "id": "4ebd907c",
   "metadata": {},
   "outputs": [
    {
     "name": "stdout",
     "output_type": "stream",
     "text": [
      "accuracy: 0.9244532803180915\n"
     ]
    }
   ],
   "source": [
    "acc = clf_log_u.score(X_test_p, y_test)\n",
    "print(f'accuracy: {acc}')"
   ]
  },
  {
   "cell_type": "code",
   "execution_count": 93,
   "id": "a379e6d6",
   "metadata": {},
   "outputs": [
    {
     "name": "stdout",
     "output_type": "stream",
     "text": [
      "precision: 0.0, recall: 0.0\n"
     ]
    }
   ],
   "source": [
    "y_pred = clf_log_u.predict(X_test_p)\n",
    "prc = precision_score(y_pred, y_test)\n",
    "rcl = recall_score(y_pred, y_test)\n",
    "print(f'precision: {prc}, recall: {rcl}')"
   ]
  },
  {
   "cell_type": "code",
   "execution_count": 94,
   "id": "c7750616",
   "metadata": {
    "scrolled": false
   },
   "outputs": [
    {
     "data": {
      "image/png": "[encoded data removed]",
      "text/plain": [
       "<Figure size 432x288 with 1 Axes>"
      ]
     },
     "metadata": {},
     "output_type": "display_data"
    }
   ],
   "source": [
    "RocCurveDisplay.from_estimator(clf_log_u, X_test_p, y_test)\n",
    "sns.despine()"
   ]
  },
  {
   "cell_type": "markdown",
   "id": "429d7010",
   "metadata": {},
   "source": [
    "### Implementation with oversampling"
   ]
  },
  {
   "cell_type": "markdown",
   "id": "99732784",
   "metadata": {},
   "source": [
    "#### Preparing the data incl. SMOTE"
   ]
  },
  {
   "cell_type": "code",
   "execution_count": 95,
   "id": "31bcca7a",
   "metadata": {},
   "outputs": [],
   "source": [
    "X_train_p = preprocessor.fit_transform(X_train)"
   ]
  },
  {
   "cell_type": "code",
   "execution_count": 96,
   "id": "7cb095d7",
   "metadata": {},
   "outputs": [],
   "source": [
    "X_test_p = preprocessor.transform(X_test)"
   ]
  },
  {
   "cell_type": "code",
   "execution_count": 97,
   "id": "0e17288e",
   "metadata": {},
   "outputs": [],
   "source": [
    "smote_sampler = SMOTE(sampling_strategy={1:1000},\n",
    "                                  random_state=0,\n",
    "                                  k_neighbors=5)"
   ]
  },
  {
   "cell_type": "code",
   "execution_count": 98,
   "id": "04382c6a",
   "metadata": {},
   "outputs": [
    {
     "data": {
      "text/plain": [
       "(2861, 1000)"
      ]
     },
     "execution_count": 98,
     "metadata": {},
     "output_type": "execute_result"
    }
   ],
   "source": [
    "X_train_urs, y_train_urs = smote_sampler.fit_resample(X_train_p, y_train)\n",
    "len(y_train_urs), sum(y_train_urs)"
   ]
  },
  {
   "cell_type": "markdown",
   "id": "ad2c9151",
   "metadata": {},
   "source": [
    "#### Buid the classifier"
   ]
  },
  {
   "cell_type": "code",
   "execution_count": 99,
   "id": "fefd8fc7",
   "metadata": {},
   "outputs": [],
   "source": [
    "clf_log_o = Pipeline(steps=[\n",
    "    #('preprocessor', preprocessor),\n",
    "    ('m_log2', LogisticRegression())    \n",
    "])"
   ]
  },
  {
   "cell_type": "code",
   "execution_count": 100,
   "id": "09ae6e74",
   "metadata": {},
   "outputs": [],
   "source": [
    "clf_log_o.fit(X_train_urs, y_train_urs);"
   ]
  },
  {
   "cell_type": "markdown",
   "id": "320f74df",
   "metadata": {},
   "source": [
    "#### Evaluate classifier"
   ]
  },
  {
   "cell_type": "code",
   "execution_count": 101,
   "id": "593e0dba",
   "metadata": {},
   "outputs": [
    {
     "data": {
      "text/plain": [
       "array([0.87260035, 0.94755245, 0.94055944, 0.93706294, 0.93881119])"
      ]
     },
     "execution_count": 101,
     "metadata": {},
     "output_type": "execute_result"
    }
   ],
   "source": [
    "cv_score = cross_val_score(clf_log_o, X_train_urs, y_train_urs, \n",
    "                cv=5, scoring='accuracy',\n",
    "                n_jobs=-1)\n",
    "cv_score"
   ]
  },
  {
   "cell_type": "code",
   "execution_count": 102,
   "id": "4545993d",
   "metadata": {},
   "outputs": [
    {
     "data": {
      "text/plain": [
       "0.9273172726052307"
      ]
     },
     "execution_count": 102,
     "metadata": {},
     "output_type": "execute_result"
    }
   ],
   "source": [
    "cv_score.mean()"
   ]
  },
  {
   "cell_type": "code",
   "execution_count": 103,
   "id": "b42f0cd3",
   "metadata": {},
   "outputs": [
    {
     "data": {
      "text/plain": [
       "0.9125248508946322"
      ]
     },
     "execution_count": 103,
     "metadata": {},
     "output_type": "execute_result"
    }
   ],
   "source": [
    "clf_log_o.score(X_test_p, y_test)"
   ]
  },
  {
   "cell_type": "code",
   "execution_count": 104,
   "id": "ca679e79",
   "metadata": {},
   "outputs": [
    {
     "name": "stdout",
     "output_type": "stream",
     "text": [
      "accuracy: 0.9125248508946322\n"
     ]
    }
   ],
   "source": [
    "acc = clf_log_o.score(X_test_p, y_test)\n",
    "print(f'accuracy: {acc}')"
   ]
  },
  {
   "cell_type": "code",
   "execution_count": 105,
   "id": "69bf4bb8",
   "metadata": {},
   "outputs": [
    {
     "name": "stdout",
     "output_type": "stream",
     "text": [
      "precision: 0.13157894736842105, recall: 0.3125\n"
     ]
    }
   ],
   "source": [
    "y_pred = clf_log_o.predict(X_test_p)\n",
    "prc = precision_score(y_pred, y_test)\n",
    "rcl = recall_score(y_pred, y_test)\n",
    "print(f'precision: {prc}, recall: {rcl}')"
   ]
  },
  {
   "cell_type": "code",
   "execution_count": 106,
   "id": "172acf27",
   "metadata": {
    "scrolled": false
   },
   "outputs": [
    {
     "data": {
      "image/png": "[encoded data removed]",
      "text/plain": [
       "<Figure size 432x288 with 1 Axes>"
      ]
     },
     "metadata": {},
     "output_type": "display_data"
    }
   ],
   "source": [
    "RocCurveDisplay.from_estimator(clf_log_o, X_test_p, y_test)\n",
    "sns.despine()"
   ]
  },
  {
   "cell_type": "markdown",
   "id": "bc713446",
   "metadata": {},
   "source": [
    "# Wordclouds"
   ]
  },
  {
   "cell_type": "code",
   "execution_count": 107,
   "id": "ec58b56c",
   "metadata": {},
   "outputs": [],
   "source": [
    "from wordcloud import WordCloud, STOPWORDS, ImageColorGenerator\n",
    "from PIL import Image"
   ]
  },
  {
   "cell_type": "markdown",
   "id": "a56e8027",
   "metadata": {},
   "source": [
    "## Functions for word clouds"
   ]
  },
  {
   "cell_type": "code",
   "execution_count": 108,
   "id": "ef01a954",
   "metadata": {},
   "outputs": [],
   "source": [
    "# Required to define white pixels in mask as '255' (assumes currently = 0, to be changed accordingly)\n",
    "def transform_val(val):\n",
    "    if val == 0:\n",
    "        return 255\n",
    "    else: \n",
    "        return val"
   ]
  },
  {
   "cell_type": "code",
   "execution_count": 109,
   "id": "00e86b49",
   "metadata": {},
   "outputs": [],
   "source": [
    "# Builds mask for word-cloud based on png-file\n",
    "def transform_png(file):\n",
    "    mask = np.array(Image.open(file))\n",
    "    mask_rs = mask.reshape(-1,1)\n",
    "    mask_rs_tf = np.array([transform_val(val) for val in mask_rs], np.uint8)\n",
    "    mask_tf = mask_rs_tf.reshape(mask.shape)\n",
    "    return mask_tf"
   ]
  },
  {
   "cell_type": "code",
   "execution_count": 136,
   "id": "baf6fcd6",
   "metadata": {},
   "outputs": [],
   "source": [
    "# Function to create wordcloud (optimized for use of masks)\n",
    "def create_wordcloud(artist, txt, msk=None, font_color='black'):\n",
    "\n",
    "    cloud = WordCloud(background_color='rgba(255, 255, 255, 0)', mode='RGBA', # for transparent background\n",
    "                      max_words=200,\n",
    "                    min_font_size=1,\n",
    "                    width=400, height=400,\n",
    "                    mask=msk,\n",
    "                    contour_width=0, contour_color='black',\n",
    "                    collocations=False,  # calculates frequencies\n",
    "                     ).generate(txt)\n",
    "                    # stop words are removed!\n",
    "    \n",
    "    #image_colors = ImageColorGenerator(msk)\n",
    "\n",
    "    plt.figure(figsize = (12,12))\n",
    "    #plt.imshow(cloud.recolor(color_func=image_colors), interpolation='bilinear')\n",
    "    plt.imshow(cloud.recolor(color_func=lambda *args, **kwargs: font_color), interpolation='bilinear')\n",
    "    plt.axis(\"off\")\n",
    "    plt.savefig(f'{artist}_wrdcld.png', transparent=True)\n",
    "    plt.show()"
   ]
  },
  {
   "cell_type": "markdown",
   "id": "3f253b4f",
   "metadata": {},
   "source": [
    "## Wordcloud for selected artists"
   ]
  },
  {
   "cell_type": "markdown",
   "id": "6b32525d",
   "metadata": {},
   "source": [
    "### Michael Jackson"
   ]
  },
  {
   "cell_type": "code",
   "execution_count": 137,
   "id": "ffa451c3",
   "metadata": {
    "scrolled": false
   },
   "outputs": [
    {
     "name": "stdout",
     "output_type": "stream",
     "text": [
      "300 unique songs identified and added for michael_jackson.\n",
      "300 unique songs identified and added in total\n"
     ]
    },
    {
     "data": {
      "image/png": "[encoded data removed]",
      "text/plain": [
       "<Figure size 864x864 with 1 Axes>"
      ]
     },
     "metadata": {},
     "output_type": "display_data"
    }
   ],
   "source": [
    "# Wordcloud for Michael Jackson\n",
    "artist = 'michael_jackson'\n",
    "mask_file = '../data/pngs_wrdcld/michael_jackson_1.png'\n",
    "\n",
    "data, y = get_corpus_target([artist])\n",
    "\n",
    "ct = CustomizedTokenizer()\n",
    "text = ''\n",
    "for lyrics in data:\n",
    "    list_of_words = ct(lyrics)\n",
    "    joined_words = ' '.join(word for word in list_of_words)\n",
    "    text = text + ' ' + joined_words\n",
    "\n",
    "create_wordcloud(artist, text, transform_png(mask_file))"
   ]
  },
  {
   "cell_type": "markdown",
   "id": "4a46ebe4",
   "metadata": {},
   "source": [
    "### The Rolling Stones"
   ]
  },
  {
   "cell_type": "code",
   "execution_count": 138,
   "id": "b5ad458c",
   "metadata": {
    "scrolled": false
   },
   "outputs": [
    {
     "name": "stdout",
     "output_type": "stream",
     "text": [
      "435 unique songs identified and added for the_rolling_stones.\n",
      "435 unique songs identified and added in total\n"
     ]
    },
    {
     "data": {
      "image/png": "[encoded data removed]",
      "text/plain": [
       "<Figure size 864x864 with 1 Axes>"
      ]
     },
     "metadata": {},
     "output_type": "display_data"
    }
   ],
   "source": [
    "# Wordcloud for Rolling Stones\n",
    "artist = 'the_rolling_stones'\n",
    "mask_file = '../data/pngs_wrdcld/the_rolling_stones_1.jpeg'\n",
    "\n",
    "data, y = get_corpus_target([artist])\n",
    "\n",
    "ct = CustomizedTokenizer()\n",
    "text = ''\n",
    "for lyrics in data:\n",
    "    list_of_words = ct(lyrics)\n",
    "    joined_words = ' '.join(word for word in list_of_words)\n",
    "    text = text + ' ' + joined_words\n",
    "\n",
    "create_wordcloud(artist, text, transform_png(mask_file), 'red')"
   ]
  },
  {
   "cell_type": "markdown",
   "id": "b1751bf7",
   "metadata": {},
   "source": [
    "# My sandbox (to be deleted)"
   ]
  },
  {
   "cell_type": "code",
   "execution_count": 113,
   "id": "46a698e4",
   "metadata": {},
   "outputs": [],
   "source": [
    "number = 1999"
   ]
  },
  {
   "cell_type": "code",
   "execution_count": 114,
   "id": "7254d572",
   "metadata": {},
   "outputs": [
    {
     "data": {
      "text/plain": [
       "1990"
      ]
     },
     "execution_count": 114,
     "metadata": {},
     "output_type": "execute_result"
    }
   ],
   "source": [
    "int(str(number)[:-1]+str(0))"
   ]
  },
  {
   "cell_type": "code",
   "execution_count": null,
   "id": "43b207e4",
   "metadata": {},
   "outputs": [],
   "source": []
  }
 ],
 "metadata": {
  "interpreter": {
   "hash": "40d3a090f54c6569ab1632332b64b2c03c39dcf918b08424e98f38b5ae0af88f"
  },
  "kernelspec": {
   "display_name": "Python (root) *",
   "language": "python",
   "name": "conda-root-py"
  },
  "language_info": {
   "codemirror_mode": {
    "name": "ipython",
    "version": 3
   },
   "file_extension": ".py",
   "mimetype": "text/x-python",
   "name": "python",
   "nbconvert_exporter": "python",
   "pygments_lexer": "ipython3",
   "version": "3.9.7"
  },
  "toc": {
   "base_numbering": 1,
   "nav_menu": {},
   "number_sections": true,
   "sideBar": true,
   "skip_h1_title": false,
   "title_cell": "Table of Contents",
   "title_sidebar": "Contents",
   "toc_cell": false,
   "toc_position": {},
   "toc_section_display": true,
   "toc_window_display": true
  }
 },
 "nbformat": 4,
 "nbformat_minor": 5
}
